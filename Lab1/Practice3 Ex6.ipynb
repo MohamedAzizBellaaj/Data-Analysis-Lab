{
 "cells": [
  {
   "cell_type": "code",
   "execution_count": 1,
   "metadata": {},
   "outputs": [
    {
     "name": "stdout",
     "output_type": "stream",
     "text": [
      "The 99% confidence interval is larger than the 95% confidence interval.\n",
      "We would need at least 209 To get a width of the confidence interval of 99% less than or equal to 0.3\n"
     ]
    }
   ],
   "source": [
    "from scipy.stats import norm\n",
    "from math import sqrt\n",
    "\n",
    "#! Two confidence intervals of a same sample vary in length according to the Z_value. To determine whether or not a confidence interval of 99% is larger of sharper than that of a confidence interval of 95%. We simply calculate each's corresponding Z_value and compare them.\n",
    "z_95 = norm.ppf(1 - 0.05 / 2 )\n",
    "z_99 = norm.ppf(1 - 0.01 / 2 )\n",
    "if z_99 > z_95:\n",
    "    print(\"The 99% confidence interval is larger than the 95% confidence interval.\")\n",
    "else:\n",
    "    print(\"The 99% confidence interval is sharper than the 95% confidence interval.\")\n",
    "#! We know that width = 2 * z_value * std_deviation / sqrt(sample_size). Thus we can obtain the sample_length by this formula : sample_size = (2 * z_value * std_deviation / width) ^ 2\n",
    "\n",
    "# Calculate std_deviation using the width of the confidence interval of 95%\n",
    "std_deviation = (0.82 - 0.49) * sqrt(100) / (2 * z_95) \n",
    "width = 0.3\n",
    "sample_size = (2 * z_99 * std_deviation / width) **2\n",
    "print(f\"We would need at least {round(sample_size)} To get a width of the confidence interval of 99% less than or equal to {width}\")\n"
   ]
  }
 ],
 "metadata": {
  "kernelspec": {
   "display_name": "data-science",
   "language": "python",
   "name": "python3"
  },
  "language_info": {
   "codemirror_mode": {
    "name": "ipython",
    "version": 3
   },
   "file_extension": ".py",
   "mimetype": "text/x-python",
   "name": "python",
   "nbconvert_exporter": "python",
   "pygments_lexer": "ipython3",
   "version": "3.10.8"
  },
  "orig_nbformat": 4,
  "vscode": {
   "interpreter": {
    "hash": "dc2bd3b27271d03bf2eec87812cad119e0cb1920e9796b1f5a29990c3e7b9536"
   }
  }
 },
 "nbformat": 4,
 "nbformat_minor": 2
}
